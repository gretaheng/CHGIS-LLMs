{
 "cells": [
  {
   "cell_type": "code",
   "execution_count": null,
   "id": "af908bf6",
   "metadata": {},
   "outputs": [],
   "source": [
    "import requests\n",
    "import time\n",
    "from bs4 import BeautifulSoup\n",
    "import random"
   ]
  },
  {
   "cell_type": "code",
   "execution_count": null,
   "id": "e8ab369f",
   "metadata": {},
   "outputs": [],
   "source": [
    "baseurl = \"https://maps.cga.harvard.edu/tgaz/placename?fmt=html&n=&pg=\"\n",
    "indlist = []\n",
    "for i in range(1627):\n",
    "    url = baseurl + str(i)\n",
    "    response = requests.get(url,  verify=False)\n",
    "    html_doc = response.text\n",
    "    soup = BeautifulSoup(html_doc, 'html.parser')\n",
    "    dl_tags = soup.find_all(class_=\"pnt\")\n",
    "    for s in range(len(dl_tags)):\n",
    "        hvd = dl_tags[s].find(\"a\").text\n",
    "        indlist.append(hvd)\n",
    "    # 每次请求后等待1秒钟\n",
    "    time.sleep(1)"
   ]
  },
  {
   "cell_type": "code",
   "execution_count": null,
   "id": "fa50af70",
   "metadata": {},
   "outputs": [],
   "source": [
    "file_path = \"allhvdid.txt\"\n",
    "\n",
    "with open(file_path, \"w\") as file:\n",
    "    for item in indlist:\n",
    "        file.write(item + \"\\n\")"
   ]
  },
  {
   "cell_type": "code",
   "execution_count": null,
   "id": "b8b313a8",
   "metadata": {},
   "outputs": [],
   "source": [
    "with open(\"allhvdid.txt\", \"r\", encoding=\"utf-8\") as file:\n",
    "    indlist = file.read().splitlines()  # 每一行作为列表的一个元素，去掉末尾的换行符\n",
    "\n",
    "print(len(indlist))"
   ]
  },
  {
   "cell_type": "code",
   "execution_count": null,
   "id": "0e535e2b",
   "metadata": {},
   "outputs": [],
   "source": [
    "baseplaceurl = \"https://maps.cga.harvard.edu/tgaz/placename/\"\n",
    "pagewithsource = []\n",
    "for i in range(len(indlist)):\n",
    "    print(i)\n",
    "    page = baseplaceurl + indlist[i]\n",
    "    response = requests.get(page, verify=False)\n",
    "    soup = BeautifulSoup(response.text, 'html.parser')\n",
    "    # 检查是否存在 <source-note> 标签\n",
    "    if soup.find(\"source-note\"):\n",
    "        pagewithsource.append(page)\n",
    "    if (i + 1) % 1500 == 0:\n",
    "        time.sleep(1)"
   ]
  },
  {
   "cell_type": "code",
   "execution_count": null,
   "id": "42be2c60",
   "metadata": {},
   "outputs": [],
   "source": [
    "file_path = \"hvdidwithsourcenote.txt\"\n",
    "\n",
    "with open(file_path, \"w\") as file:\n",
    "    for item in pagewithsource:\n",
    "        file.write(item + \"\\n\")"
   ]
  },
  {
   "cell_type": "code",
   "execution_count": null,
   "id": "7f3c0ada",
   "metadata": {},
   "outputs": [],
   "source": [
    "len(pagewithsource)"
   ]
  },
  {
   "cell_type": "code",
   "execution_count": null,
   "id": "34e172d2",
   "metadata": {},
   "outputs": [],
   "source": [
    "import random\n",
    "\n",
    "\n",
    "# 从列表中随机选取 10 个元素\n",
    "selected = random.sample(pagewithsource, 10)\n",
    "print(selected)"
   ]
  },
  {
   "cell_type": "code",
   "execution_count": null,
   "id": "4059a59a",
   "metadata": {},
   "outputs": [],
   "source": [
    "file_path = \"10placeslink.txt\"\n",
    "\n",
    "with open(file_path, \"w\") as file:\n",
    "    for item in selected:\n",
    "        file.write(item + \"\\n\")"
   ]
  },
  {
   "cell_type": "code",
   "execution_count": null,
   "id": "72b6b12c",
   "metadata": {},
   "outputs": [],
   "source": [
    "onlyhvd = [i for i in pagewithsource if \"hvd_\" in i]\n",
    "nohvd = [i for i in pagewithsource if \"hvd_\" not in i]"
   ]
  },
  {
   "cell_type": "code",
   "execution_count": null,
   "id": "0bf6d4b2",
   "metadata": {},
   "outputs": [],
   "source": [
    "file_path = \"nohvd.txt\"\n",
    "\n",
    "with open(file_path, \"w\") as file:\n",
    "    for item in nohvd:\n",
    "        file.write(item + \"\\n\")"
   ]
  },
  {
   "cell_type": "code",
   "execution_count": null,
   "id": "3fb21492",
   "metadata": {},
   "outputs": [],
   "source": [
    "file_path = \"onlyhvd.txt\"\n",
    "\n",
    "with open(file_path, \"w\") as file:\n",
    "    for item in onlyhvd:\n",
    "        file.write(item + \"\\n\")"
   ]
  },
  {
   "cell_type": "code",
   "execution_count": null,
   "id": "63cf862b",
   "metadata": {},
   "outputs": [],
   "source": [
    "with open(\"onlyhvd.txt\", \"r\", encoding=\"utf-8\") as file:\n",
    "    onlyhvd = file.read().splitlines()  # 每一行作为列表的一个元素，去掉末尾的换行符\n",
    "\n",
    "print(len(onlyhvd))"
   ]
  },
  {
   "cell_type": "code",
   "execution_count": null,
   "id": "0cffbe13",
   "metadata": {},
   "outputs": [],
   "source": [
    "# 从列表中随机选取 10 个元素\n",
    "selected2 = random.sample(onlyhvd, 10)\n",
    "print(selected2)"
   ]
  },
  {
   "cell_type": "code",
   "execution_count": null,
   "id": "3fef3ea6",
   "metadata": {},
   "outputs": [],
   "source": [
    "file_path = \"10placeslink2.txt\"\n",
    "\n",
    "with open(file_path, \"w\") as file:\n",
    "    for item in selected2:\n",
    "        file.write(item + \"\\n\")"
   ]
  },
  {
   "cell_type": "code",
   "execution_count": null,
   "id": "915799a6",
   "metadata": {},
   "outputs": [],
   "source": [
    "filteredlisthvd = []\n",
    "for i in range(len(onlyhvd)):\n",
    "    page = onlyhvd[i]\n",
    "    response = requests.get(page, verify=False)\n",
    "    soup = BeautifulSoup(response.text, 'html.parser')\n",
    "    # 检查是否存在 <source-note> 标签\n",
    "    if \"省数据\" not in soup.find(\"source-note\").text[:5]:\n",
    "        filteredlisthvd.append(onlyhvd[i])\n",
    "    if (i + 1) % 1500 == 0:\n",
    "        time.sleep(1)\n",
    "    print(i)"
   ]
  },
  {
   "cell_type": "code",
   "execution_count": null,
   "id": "d1ce7085",
   "metadata": {},
   "outputs": [],
   "source": [
    "filteredlisthvd = []\n",
    "for i in filteredlisthvd:\n",
    "    print(i)\n",
    "    filteredlisthvd.append(onlyhvd[i])"
   ]
  },
  {
   "cell_type": "code",
   "execution_count": null,
   "id": "8ee7f5f4",
   "metadata": {},
   "outputs": [],
   "source": [
    "file_path = \"filteredlisthvd.txt\"\n",
    "\n",
    "with open(file_path, \"w\") as file:\n",
    "    for item in filteredlisthvd:\n",
    "        file.write(item + \"\\n\")"
   ]
  },
  {
   "cell_type": "code",
   "execution_count": null,
   "id": "5fd2c278",
   "metadata": {},
   "outputs": [],
   "source": [
    "file_path = \"filteredlisthvd.txt\"\n",
    "\n",
    "with open(file_path, \"w\") as file:\n",
    "    for item in filteredlisthvd:\n",
    "        file.write(item + \"\\n\")"
   ]
  },
  {
   "cell_type": "code",
   "execution_count": null,
   "id": "c46a6564",
   "metadata": {},
   "outputs": [],
   "source": [
    "# 从列表中随机选取 10 个元素\n",
    "selected3 = random.sample(filteredlisthvd, 10)\n",
    "print(selected3)"
   ]
  },
  {
   "cell_type": "code",
   "execution_count": null,
   "id": "175546f1",
   "metadata": {},
   "outputs": [],
   "source": [
    "file_path = \"10placeslink3.txt\"\n",
    "\n",
    "with open(file_path, \"w\") as file:\n",
    "    for item in selected3:\n",
    "        file.write(item + \"\\n\")"
   ]
  },
  {
   "cell_type": "code",
   "execution_count": null,
   "id": "b9622b6d",
   "metadata": {},
   "outputs": [],
   "source": [
    "testlink = \"https://maps.cga.harvard.edu/tgaz/placename/hvd_92180\"\n",
    "response = requests.get(testlink, verify=False)"
   ]
  },
  {
   "cell_type": "code",
   "execution_count": null,
   "id": "cdf2ef47",
   "metadata": {},
   "outputs": [],
   "source": [
    "source_note = soup.find(\"source-note\")\n",
    "soup = BeautifulSoup(response.text, 'html.parser')\n",
    "if source_note:\n",
    "    # 获取 source-note 标签中包含 HTML 的内容\n",
    "    content_html = source_note.decode_contents()\n",
    "    # 找到第一个 <br> 标签出现的位置\n",
    "    first_br_index = content_html.find(\"<br/>\")\n",
    "    if first_br_index != -1:\n",
    "        # 提取第一个 <br> 之前的内容，并解析为纯文本\n",
    "        text_before_br = BeautifulSoup(content_html[:first_br_index], \"html.parser\").get_text()\n",
    "        if \"界线\" not in text_before_br:\n",
    "            print(\"第一个 <br> 之前的文本包含“界线”\")"
   ]
  },
  {
   "cell_type": "code",
   "execution_count": null,
   "id": "a7d30e61",
   "metadata": {},
   "outputs": [],
   "source": [
    "noboundaryhvd = []\n",
    "for i in range(len(filteredlisthvd)):\n",
    "    page = filteredlisthvd[i]\n",
    "    response = requests.get(page, verify=False)\n",
    "    soup = BeautifulSoup(response.text, 'html.parser')\n",
    "    # 检查是否存在 <source-note> 标签\n",
    "    source_note = soup.find(\"source-note\")\n",
    "    if source_note:\n",
    "        content_html = source_note.decode_contents()\n",
    "    # 找到第一个 <br> 标签出现的位置\n",
    "        first_br_index = content_html.find(\"<br/>\")\n",
    "        if first_br_index != -1:\n",
    "        # 提取第一个 <br> 之前的内容，并解析为纯文本\n",
    "            text_before_br = BeautifulSoup(content_html[:first_br_index], \"html.parser\").get_text()\n",
    "            if \"界线\" not in text_before_br:\n",
    "                noboundaryhvd.append(filteredlisthvd[i])\n",
    "    if (i + 1) % 1500 == 0:\n",
    "        time.sleep(1)\n",
    "    print(i)"
   ]
  },
  {
   "cell_type": "code",
   "execution_count": null,
   "id": "814d5193",
   "metadata": {},
   "outputs": [],
   "source": [
    "file_path = \"noboundaryhvd.txt\"\n",
    "\n",
    "with open(file_path, \"w\") as file:\n",
    "    for item in noboundaryhvd:\n",
    "        file.write(item + \"\\n\")"
   ]
  },
  {
   "cell_type": "code",
   "execution_count": null,
   "id": "691e4dca",
   "metadata": {},
   "outputs": [],
   "source": [
    "\n",
    "# 从列表中随机选取 10 个元素\n",
    "selected4 = random.sample(noboundaryhvd, 10)\n",
    "print(selected3)"
   ]
  },
  {
   "cell_type": "code",
   "execution_count": null,
   "id": "0a7f8076",
   "metadata": {},
   "outputs": [],
   "source": [
    "file_path = \"10placeslink4.txt\"\n",
    "\n",
    "with open(file_path, \"w\") as file:\n",
    "    for item in selected4:\n",
    "        file.write(item + \"\\n\")"
   ]
  },
  {
   "cell_type": "code",
   "execution_count": null,
   "id": "bf5b1a41",
   "metadata": {},
   "outputs": [],
   "source": []
  }
 ],
 "metadata": {
  "kernelspec": {
   "display_name": "Python 3 (ipykernel)",
   "language": "python",
   "name": "python3"
  },
  "language_info": {
   "codemirror_mode": {
    "name": "ipython",
    "version": 3
   },
   "file_extension": ".py",
   "mimetype": "text/x-python",
   "name": "python",
   "nbconvert_exporter": "python",
   "pygments_lexer": "ipython3",
   "version": "3.10.1"
  }
 },
 "nbformat": 4,
 "nbformat_minor": 5
}
